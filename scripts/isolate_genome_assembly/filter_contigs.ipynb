{
 "cells": [
  {
   "cell_type": "code",
   "execution_count": 68,
   "metadata": {},
   "outputs": [],
   "source": [
    "#this script visualizes the contig length, coverage, \n",
    "#and taxonomy of spades-assembled contigs\n",
    "#filter contigs >1000bp, >10x coverage, and those matching \n",
    "#the top genus sequenced into filter_contigs folder"
   ]
  },
  {
   "cell_type": "code",
   "execution_count": 76,
   "metadata": {},
   "outputs": [],
   "source": [
    "import pandas as pd\n",
    "import os\n",
    "import matplotlib.pyplot as plt\n",
    "import sys\n",
    "from Bio import SeqIO"
   ]
  },
  {
   "cell_type": "code",
   "execution_count": 88,
   "metadata": {},
   "outputs": [],
   "source": [
    "isolate= sys.argv[1]"
   ]
  },
  {
   "cell_type": "code",
   "execution_count": 89,
   "metadata": {},
   "outputs": [
    {
     "name": "stdout",
     "output_type": "stream",
     "text": [
      "P17-B3\n"
     ]
    }
   ],
   "source": [
    "path = 'results/processing/assemblies/'+isolate+'/'\n",
    "#inputs\n",
    "centrifuge_file = path + 'spades_isolate_assembly/centrifuge_hits.tsv'\n",
    "fasta_file = path + 'spades_isolate_assembly/contigs.fasta'\n",
    "\n",
    "#outputs\n",
    "centrifuge_summary_file = path + 'spades_isolate_assembly/centrifuge_summary.tsv'\n",
    "LvC_plot = path + 'spades_isolate_assembly/contigs_length_vs_coverage.pdf'\n",
    "\n",
    "filtered_contigs_dir = 'results/processing/filtered_contigs'\n",
    "os.system('mkdir -pv '+filtered_contigs_dir)\n",
    "filtered_contigs_fasta_file = filtered_contigs_dir+'/'+isolate+'_contigs.fasta'"
   ]
  },
  {
   "cell_type": "code",
   "execution_count": 90,
   "metadata": {},
   "outputs": [],
   "source": [
    "#read in tab file that links taxid info produce by centrifuge to useable taxonomic info\n",
    "centrifuge_taxonomy = pd.read_csv('bin/centrifuge_taxonomy/p_compressed+h+v_taxonomy.txt',sep='\\t',header=None)\n",
    "centrifuge_taxonomy.columns = ['taxid','taxonomy']\n",
    "taxid_dict = centrifuge_taxonomy.set_index('taxid').to_dict()['taxonomy']\n",
    "\n",
    "def get_taxonomy(taxid):\n",
    "    try:\n",
    "        return(taxid_dict[int(taxid)])\n",
    "    except:\n",
    "        return('Unassigned')"
   ]
  },
  {
   "cell_type": "code",
   "execution_count": 98,
   "metadata": {},
   "outputs": [
    {
     "name": "stdout",
     "output_type": "stream",
     "text": [
      "4786 contigs in spades isolate assembly\n",
      "82 contigs >1000bp and 10x coverage\n",
      "              genus                         taxonomy   length  length_prop\n",
      "0       Escherichia                 Escherichia coli  5079791    48.804003\n",
      "1   Parabacteroides       Parabacteroides distasonis  5037873    48.401276\n",
      "2  Ornithobacterium  Ornithobacterium rhinotracheale   156862     1.507049\n",
      "3        Salmonella              Salmonella enterica    35415     0.340249\n",
      "4              Homo                     Homo sapiens    21723     0.208703\n"
     ]
    },
    {
     "data": {
      "image/png": "[encoded data removed]",
      "text/plain": [
       "<Figure size 432x288 with 1 Axes>"
      ]
     },
     "metadata": {
      "needs_background": "light"
     },
     "output_type": "display_data"
    }
   ],
   "source": [
    "#read in centrifuge output of spades isolate assembly\n",
    "contigs = pd.read_csv(centrifuge_file,sep='\\t')\n",
    "print(len(contigs),'contigs in spades isolate assembly')\n",
    "\n",
    "#extract data from contig readIDs and taxIDs\n",
    "contigs['cov']=pd.to_numeric(contigs['readID'].apply(lambda x: x.split('_')[-1]))\n",
    "contigs['length']=pd.to_numeric(contigs['readID'].apply(lambda x: x.split('_')[3]))\n",
    "contigs['taxonomy']=contigs['taxID'].apply(lambda x: get_taxonomy(x))\n",
    "contigs['genus']=contigs['taxonomy'].apply(lambda x: x.split(' ')[0])\n",
    "\n",
    "#define contig color based on taxonomy\n",
    "def color_scale(genus):\n",
    "    if genus == 'Bacteroides':\n",
    "        return('blue')\n",
    "    if genus == 'Parabacteroides':\n",
    "        return('green')\n",
    "    if genus == 'Bifidobacterium':\n",
    "        return('red')\n",
    "    else:\n",
    "        return('gray')\n",
    "contigs['color'] = contigs['genus'].apply(color_scale)\n",
    "\n",
    "#filter contigs >1,000bp and >10x coverage\n",
    "contigs = contigs[contigs['length']>1000].reset_index()\n",
    "contigs = contigs[contigs['cov']>10].reset_index()\n",
    "print(len(contigs),'contigs >1000bp and 10x coverage')\n",
    "if len(contigs) == 0: \n",
    "    sys.exit('no passing contigs')\n",
    "#summary contigs by taxonomy\n",
    "contigs_summary = contigs.groupby(['genus','taxonomy'], as_index=False\n",
    "                             ).agg({\"length\": \"sum\"}\n",
    "                                  ).sort_values(by=['length'], ascending=False\n",
    "                                             ).reset_index().drop(columns=['index'])\n",
    "contigs_summary['length_prop'] = 100*contigs_summary['length']/contigs_summary['length'].sum()\n",
    "print(contigs_summary.head())\n",
    "contigs_summary.to_csv(centrifuge_summary_file,sep='\\t',index=False)\n",
    "\n",
    "#plot contig length vs. coverage\n",
    "plt.figure(1)\n",
    "plt.scatter(contigs['length'],contigs['cov'],color=contigs['color'])\n",
    "plt.xlabel('length')\n",
    "plt.ylabel('coverage')\n",
    "plt.title(isolate)\n",
    "plt.savefig(LvC_plot)  "
   ]
  },
  {
   "cell_type": "code",
   "execution_count": 100,
   "metadata": {},
   "outputs": [
    {
     "name": "stdout",
     "output_type": "stream",
     "text": [
      "top genus\n",
      "Escherichia\n",
      "41 contigs after taxonomic filter\n"
     ]
    },
    {
     "data": {
      "image/png": "[encoded data removed]",
      "text/plain": [
       "<Figure size 432x288 with 1 Axes>"
      ]
     },
     "metadata": {
      "needs_background": "light"
     },
     "output_type": "display_data"
    }
   ],
   "source": [
    "print('top genus')\n",
    "top_genus = contigs_summary['genus'][0]\n",
    "print(top_genus)\n",
    "#filter contigs belonging only to genera01\n",
    "plt.figure(2)\n",
    "contigs_TG = contigs[contigs['genus']==top_genus]\n",
    "print(len(contigs_TG),'contigs after taxonomic filter')\n",
    "\n",
    "plt.scatter(contigs_TG['length'],contigs_TG['cov'],color=contigs_TG['color'])\n",
    "plt.xlabel('length')\n",
    "plt.ylabel('coverage')\n",
    "plt.title(isolate)\n",
    "\n",
    "#output filtered contig fasta\n",
    "with open(fasta_file, \"r\") as fasta:\n",
    "    with open(filtered_contigs_fasta_file, \"w\") as filtered_fasta:\n",
    "        for record in SeqIO.parse(fasta, \"fasta\"):\n",
    "            if record.id in list(contigs_TG['readID']):\n",
    "                SeqIO.write(record, filtered_fasta, \"fasta\")"
   ]
  }
 ],
 "metadata": {
  "kernelspec": {
   "display_name": "Python 3",
   "language": "python",
   "name": "python3"
  },
  "language_info": {
   "codemirror_mode": {
    "name": "ipython",
    "version": 3
   },
   "file_extension": ".py",
   "mimetype": "text/x-python",
   "name": "python",
   "nbconvert_exporter": "python",
   "pygments_lexer": "ipython3",
   "version": "3.7.7"
  }
 },
 "nbformat": 4,
 "nbformat_minor": 4
}
